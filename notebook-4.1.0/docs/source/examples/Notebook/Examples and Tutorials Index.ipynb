{
 "cells": [
  {
   "cell_type": "markdown",
   "metadata": {},
   "source": [
    "<img src=\"../images/jupyter_logo.png\">"
   ]
  },
  {
   "cell_type": "markdown",
   "metadata": {},
   "source": [
    "# Examples and Tutorials"
   ]
  },
  {
   "cell_type": "markdown",
   "metadata": {},
   "source": [
    "This portion of the documentation was generated from notebook files.  You can download the original interactive notebook files using the links at the tops and bottoms of the pages."
   ]
  },
  {
   "cell_type": "markdown",
   "metadata": {},
   "source": [
    "## Tutorials"
   ]
  },
  {
   "cell_type": "markdown",
   "metadata": {},
   "source": [
    "* [What is the Jupyter Notebook](What is the Jupyter Notebook.ipynb)\n",
    "* [Notebook Basics](Notebook Basics.ipynb)\n",
    "* [Running Code](Running Code.ipynb)\n",
    "* [Working With Markdown Cells](Working With Markdown Cells.ipynb)\n",
    "* [Custom Keyboard Shortcuts](Custom Keyboard Shortcuts.ipynb)\n",
    "* [JavaScript Notebook Extensions](JavaScript Notebook Extensions.ipynb)"
   ]
  },
  {
   "cell_type": "markdown",
   "metadata": {},
   "source": [
    "## Examples"
   ]
  },
  {
   "cell_type": "markdown",
   "metadata": {},
   "source": [
    "* [Importing Notebooks](Importing Notebooks.ipynb)\n",
    "* [Connecting with the Qt Console](Connecting with the Qt Console.ipynb)\n",
    "* [Typesetting Equations](Typesetting Equations.ipynb)"
   ]
  }
 ],
 "metadata": {
  "kernelspec": {
   "display_name": "Python 3",
   "language": "python",
   "name": "python3"
  },
  "language_info": {
   "codemirror_mode": {
    "name": "ipython",
    "version": 3
   },
   "file_extension": ".py",
   "mimetype": "text/x-python",
   "name": "python",
   "nbconvert_exporter": "python",
   "pygments_lexer": "ipython3",
   "version": "3.5.0"
  }
 },
 "nbformat": 4,
 "nbformat_minor": 0
}
